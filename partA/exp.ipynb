{
 "cells": [
  {
   "cell_type": "code",
   "execution_count": null,
   "id": "c7bf222b",
   "metadata": {},
   "outputs": [],
   "source": [
    "# CNN module testing\n",
    "from utils.data_loader import INaturalistDataLoader\n",
    "from pathlib import Path\n",
    "from models.cnn_model import CNNModel\n",
    "import torch\n"
   ]
  },
  {
   "cell_type": "code",
   "execution_count": null,
   "id": "beed34d9",
   "metadata": {},
   "outputs": [],
   "source": []
  },
  {
   "cell_type": "code",
   "execution_count": 41,
   "id": "b9f6e454",
   "metadata": {},
   "outputs": [
    {
     "name": "stdout",
     "output_type": "stream",
     "text": [
      "torch.Size([8, 10])\n"
     ]
    }
   ],
   "source": [
    "model = CNNModel(input_channels=3, num_filters=[32, 32, 32, 32, 32],\n",
    "                 kernel_size=3, activation='mish', dense_neurons=128, dropout_rate=0.2)\n",
    "dummy_input = torch.randn(8, 3, 64, 64)  \n",
    "output = model(dummy_input)\n",
    "print(output.shape) "
   ]
  },
  {
   "cell_type": "code",
   "execution_count": 2,
   "id": "1faa23ef",
   "metadata": {},
   "outputs": [
    {
     "name": "stdout",
     "output_type": "stream",
     "text": [
      "Updated run 6snrldt8 with max_val_accuracy: 0.2915\n",
      "Updated run j3km7ytu with max_val_accuracy: 0.4070\n",
      "Updated run fkj6gsfy with max_val_accuracy: 0.4410\n",
      "Updated run kou7tyqf with max_val_accuracy: 0.4245\n",
      "Updated run mlys4ln3 with max_val_accuracy: 0.4355\n",
      "Updated run xbpehiv8 with max_val_accuracy: 0.3875\n",
      "Updated run 9q37idme with max_val_accuracy: 0.3500\n",
      "Updated run brjgyw3s with max_val_accuracy: 0.4350\n",
      "Updated run ovgkz9hy with max_val_accuracy: 0.4715\n",
      "Updated run 6xj5gkff with max_val_accuracy: 0.4310\n",
      "Updated run y5uorl89 with max_val_accuracy: 0.3730\n",
      "Updated run xn86bn8j with max_val_accuracy: 0.3845\n",
      "Updated run ptx33v27 with max_val_accuracy: 0.4325\n",
      "Updated run rgpnxoss with max_val_accuracy: 0.4435\n",
      "Updated run fxh8sxbr with max_val_accuracy: 0.4260\n",
      "Updated run zl0qguba with max_val_accuracy: 0.4445\n",
      "Updated run 54q2wmag with max_val_accuracy: 0.4475\n",
      "Updated run ahg9rrj9 with max_val_accuracy: 0.4625\n",
      "Updated run we24yd6p with max_val_accuracy: 0.3715\n",
      "Updated run z2l9ysfs with max_val_accuracy: 0.3720\n",
      "Updated run 3pth42c9 with max_val_accuracy: 0.3575\n",
      "Updated run vqoabydy with max_val_accuracy: 0.4320\n",
      "Updated run eug68x60 with max_val_accuracy: 0.3790\n",
      "Updated run v8stuu1m with max_val_accuracy: 0.3630\n",
      "Updated run vd2g6yez with max_val_accuracy: 0.4385\n",
      "Updated run 8xfdlc45 with max_val_accuracy: 0.3700\n",
      "Updated run r6a62gp0 with max_val_accuracy: 0.3760\n",
      "Updated run tmqcvgx7 with max_val_accuracy: 0.4400\n",
      "Updated run 5tkg1nhq with max_val_accuracy: 0.4500\n",
      "Updated run ig5wguko with max_val_accuracy: 0.3825\n",
      "Updated run ls1h4bhc with max_val_accuracy: 0.3715\n",
      "Updated run kmb9klw0 with max_val_accuracy: 0.3660\n",
      "Updated run fgy87x7c with max_val_accuracy: 0.3895\n",
      "Updated run b34cim57 with max_val_accuracy: 0.4485\n",
      "Updated run j96ce6to with max_val_accuracy: 0.3745\n",
      "Updated run 2ure4qj8 with max_val_accuracy: 0.4525\n",
      "Updated run 2bo5sho2 with max_val_accuracy: 0.3945\n",
      "Updated run 4n1mlg88 with max_val_accuracy: 0.4370\n",
      "Updated run 64abre1w with max_val_accuracy: 0.3655\n",
      "Updated run 68snvdyt with max_val_accuracy: 0.3750\n",
      "Updated run nfdns22s with max_val_accuracy: 0.4335\n",
      "Updated run tylagqiy with max_val_accuracy: 0.4430\n",
      "Updated run uzk272on with max_val_accuracy: 0.3660\n",
      "Updated run t23qdjbj with max_val_accuracy: 0.4070\n",
      "Updated run h83xuvn5 with max_val_accuracy: 0.3785\n",
      "Updated run ti3cd5hk with max_val_accuracy: 0.4570\n",
      "Updated run udkosdim with max_val_accuracy: 0.3695\n",
      "Updated run 63ujp31h with max_val_accuracy: 0.3640\n",
      "Updated run pcnpeslk with max_val_accuracy: 0.3920\n",
      "Updated run eahs5c1w with max_val_accuracy: 0.4805\n",
      "Updated run h6kx7nub with max_val_accuracy: 0.4720\n",
      "Updated run myn099wf with max_val_accuracy: 0.3850\n",
      "Updated run 1aef0q1y with max_val_accuracy: 0.3665\n",
      "Updated run twacnc6y with max_val_accuracy: 0.4655\n",
      "Updated run uma4iglc with max_val_accuracy: 0.4470\n",
      "Updated run xgajfpco with max_val_accuracy: 0.3770\n",
      "Updated run 2ghhnpx5 with max_val_accuracy: 0.3905\n",
      "Updated run fttu38xt with max_val_accuracy: 0.4595\n",
      "Updated run n8gonib8 with max_val_accuracy: 0.3930\n",
      "Updated run jg0un80r with max_val_accuracy: 0.4745\n",
      "Updated run 4i5bzp1a with max_val_accuracy: 0.4470\n",
      "Updated run ygwpozj5 with max_val_accuracy: 0.3600\n",
      "Updated run zrmz13q1 with max_val_accuracy: 0.4355\n",
      "Updated run g8gahfeh with max_val_accuracy: 0.4475\n",
      "Updated run hdn1lfht with max_val_accuracy: 0.4420\n",
      "Updated run jupelxzt with max_val_accuracy: 0.4630\n",
      "Updated run 1p1ld595 with max_val_accuracy: 0.4475\n",
      "Updated run p42neizb with max_val_accuracy: 0.3775\n",
      "Updated run ozwrjn6q with max_val_accuracy: 0.4315\n"
     ]
    }
   ],
   "source": [
    "import wandb\n",
    "\n",
    "# Replace with your entity, project, and sweep ID\n",
    "ENTITY = \"ns25z040-indian-institute-of-technology-madras\"\n",
    "PROJECT = \"DA6401_Assignment2\"\n",
    "SWEEP_ID = \"97254cs8\"\n",
    "\n",
    "api = wandb.Api()\n",
    "\n",
    "# Fetch all runs in the sweep\n",
    "sweep = api.sweep(f\"{ENTITY}/{PROJECT}/{SWEEP_ID}\")\n",
    "runs = sweep.runs\n",
    "\n",
    "for run in runs:\n",
    "    try:\n",
    "        # Get the full history of the run (as a generator)\n",
    "        history = run.history(keys=[\"val_acc\"], pandas=True)\n",
    "        \n",
    "        if \"val_acc\" in history.columns:\n",
    "            max_val_acc = history[\"val_acc\"].max()\n",
    "\n",
    "            # Log to the run's summary\n",
    "            run.summary[\"max_val_accuracy\"] = max_val_acc\n",
    "            run.summary.update()  # Save the update\n",
    "\n",
    "            print(f\"Updated run {run.id} with max_val_accuracy: {max_val_acc:.4f}\")\n",
    "        else:\n",
    "            print(f\"No val_accuracy logged for run {run.id}\")\n",
    "    except Exception as e:\n",
    "        print(f\"Failed for run {run.id}: {e}\")\n"
   ]
  }
 ],
 "metadata": {
  "kernelspec": {
   "display_name": "base",
   "language": "python",
   "name": "python3"
  },
  "language_info": {
   "codemirror_mode": {
    "name": "ipython",
    "version": 3
   },
   "file_extension": ".py",
   "mimetype": "text/x-python",
   "name": "python",
   "nbconvert_exporter": "python",
   "pygments_lexer": "ipython3",
   "version": "3.12.3"
  }
 },
 "nbformat": 4,
 "nbformat_minor": 5
}
