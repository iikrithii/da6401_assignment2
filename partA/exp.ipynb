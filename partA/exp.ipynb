{
 "cells": [
  {
   "cell_type": "code",
   "execution_count": null,
   "id": "c7bf222b",
   "metadata": {},
   "outputs": [],
   "source": [
    "# CNN module testing\n",
    "from utils.data_loader import INaturalistDataLoader\n",
    "from pathlib import Path\n",
    "from models.cnn_model import CNNModel\n",
    "import torch\n"
   ]
  },
  {
   "cell_type": "code",
   "execution_count": 41,
   "id": "b9f6e454",
   "metadata": {},
   "outputs": [
    {
     "name": "stdout",
     "output_type": "stream",
     "text": [
      "torch.Size([8, 10])\n"
     ]
    }
   ],
   "source": [
    "model = CNNModel(input_channels=3, num_filters=[32, 32, 32, 32, 32],\n",
    "                 kernel_size=3, activation='mish', dense_neurons=128, dropout_rate=0.2)\n",
    "dummy_input = torch.randn(8, 3, 64, 64)  \n",
    "output = model(dummy_input)\n",
    "print(output.shape) "
   ]
  }
 ],
 "metadata": {
  "kernelspec": {
   "display_name": "base",
   "language": "python",
   "name": "python3"
  },
  "language_info": {
   "codemirror_mode": {
    "name": "ipython",
    "version": 3
   },
   "file_extension": ".py",
   "mimetype": "text/x-python",
   "name": "python",
   "nbconvert_exporter": "python",
   "pygments_lexer": "ipython3",
   "version": "3.12.3"
  }
 },
 "nbformat": 4,
 "nbformat_minor": 5
}
